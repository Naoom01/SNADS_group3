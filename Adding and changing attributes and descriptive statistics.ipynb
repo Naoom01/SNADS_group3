{
 "cells": [
  {
   "cell_type": "markdown",
   "id": "ba2e6db0",
   "metadata": {},
   "source": [
    "### Adding attributes and displaying descriptive statistics"
   ]
  },
  {
   "cell_type": "markdown",
   "id": "3f9208e3",
   "metadata": {},
   "source": [
    "In this notebook, the countries are split into its respective continents. Furthermore, the interaction variable Popularity x Gender is added here by changing the gender category to 0, 1 and 2. Finally, the descriptive statistics are shown. "
   ]
  },
  {
   "cell_type": "code",
   "execution_count": 1,
   "id": "b3a76101",
   "metadata": {},
   "outputs": [],
   "source": [
    "import pandas as pd"
   ]
  },
  {
   "cell_type": "code",
   "execution_count": 2,
   "id": "a98a5282",
   "metadata": {
    "scrolled": false
   },
   "outputs": [
    {
     "data": {
      "text/html": [
       "<div>\n",
       "<style scoped>\n",
       "    .dataframe tbody tr th:only-of-type {\n",
       "        vertical-align: middle;\n",
       "    }\n",
       "\n",
       "    .dataframe tbody tr th {\n",
       "        vertical-align: top;\n",
       "    }\n",
       "\n",
       "    .dataframe thead th {\n",
       "        text-align: right;\n",
       "    }\n",
       "</style>\n",
       "<table border=\"1\" class=\"dataframe\">\n",
       "  <thead>\n",
       "    <tr style=\"text-align: right;\">\n",
       "      <th></th>\n",
       "      <th>Artist</th>\n",
       "      <th>Gender</th>\n",
       "      <th>Country</th>\n",
       "      <th>Popularity</th>\n",
       "    </tr>\n",
       "  </thead>\n",
       "  <tbody>\n",
       "    <tr>\n",
       "      <th>0</th>\n",
       "      <td>Martin Garrix</td>\n",
       "      <td>male</td>\n",
       "      <td>Netherlands</td>\n",
       "      <td>74</td>\n",
       "    </tr>\n",
       "    <tr>\n",
       "      <th>1</th>\n",
       "      <td>David Guetta</td>\n",
       "      <td>male</td>\n",
       "      <td>France</td>\n",
       "      <td>85</td>\n",
       "    </tr>\n",
       "    <tr>\n",
       "      <th>2</th>\n",
       "      <td>Dimitri Vegas &amp; Like Mike</td>\n",
       "      <td>male</td>\n",
       "      <td>Belgium</td>\n",
       "      <td>67</td>\n",
       "    </tr>\n",
       "    <tr>\n",
       "      <th>3</th>\n",
       "      <td>24hrs</td>\n",
       "      <td>male</td>\n",
       "      <td>United States</td>\n",
       "      <td>49</td>\n",
       "    </tr>\n",
       "    <tr>\n",
       "      <th>4</th>\n",
       "      <td>2WEI</td>\n",
       "      <td>male</td>\n",
       "      <td>Germany</td>\n",
       "      <td>60</td>\n",
       "    </tr>\n",
       "  </tbody>\n",
       "</table>\n",
       "</div>"
      ],
      "text/plain": [
       "                      Artist Gender        Country  Popularity\n",
       "0              Martin Garrix   male    Netherlands          74\n",
       "1               David Guetta   male         France          85\n",
       "2  Dimitri Vegas & Like Mike   male        Belgium          67\n",
       "3                      24hrs   male  United States          49\n",
       "4                       2WEI   male        Germany          60"
      ]
     },
     "execution_count": 2,
     "metadata": {},
     "output_type": "execute_result"
    }
   ],
   "source": [
    "df_artist = pd.read_csv(\"Nodelist_Final3.csv\")\n",
    "df_artist.head()"
   ]
  },
  {
   "cell_type": "markdown",
   "id": "2285d63a",
   "metadata": {},
   "source": [
    "### Changing gender categories"
   ]
  },
  {
   "cell_type": "markdown",
   "id": "b2b0f250",
   "metadata": {},
   "source": [
    "Changing the categorical gender categories to 0 for mixed, 1 for male and 2 for female to be able to get more meaningful ERGM results"
   ]
  },
  {
   "cell_type": "code",
   "execution_count": 3,
   "id": "346653fb",
   "metadata": {
    "scrolled": true
   },
   "outputs": [
    {
     "data": {
      "text/html": [
       "<div>\n",
       "<style scoped>\n",
       "    .dataframe tbody tr th:only-of-type {\n",
       "        vertical-align: middle;\n",
       "    }\n",
       "\n",
       "    .dataframe tbody tr th {\n",
       "        vertical-align: top;\n",
       "    }\n",
       "\n",
       "    .dataframe thead th {\n",
       "        text-align: right;\n",
       "    }\n",
       "</style>\n",
       "<table border=\"1\" class=\"dataframe\">\n",
       "  <thead>\n",
       "    <tr style=\"text-align: right;\">\n",
       "      <th></th>\n",
       "      <th>Artist</th>\n",
       "      <th>Gender</th>\n",
       "      <th>Country</th>\n",
       "      <th>Popularity</th>\n",
       "      <th>Gender_numeric</th>\n",
       "    </tr>\n",
       "  </thead>\n",
       "  <tbody>\n",
       "    <tr>\n",
       "      <th>0</th>\n",
       "      <td>Martin Garrix</td>\n",
       "      <td>male</td>\n",
       "      <td>Netherlands</td>\n",
       "      <td>74</td>\n",
       "      <td>1</td>\n",
       "    </tr>\n",
       "    <tr>\n",
       "      <th>1</th>\n",
       "      <td>David Guetta</td>\n",
       "      <td>male</td>\n",
       "      <td>France</td>\n",
       "      <td>85</td>\n",
       "      <td>1</td>\n",
       "    </tr>\n",
       "    <tr>\n",
       "      <th>2</th>\n",
       "      <td>Dimitri Vegas &amp; Like Mike</td>\n",
       "      <td>male</td>\n",
       "      <td>Belgium</td>\n",
       "      <td>67</td>\n",
       "      <td>1</td>\n",
       "    </tr>\n",
       "    <tr>\n",
       "      <th>3</th>\n",
       "      <td>24hrs</td>\n",
       "      <td>male</td>\n",
       "      <td>United States</td>\n",
       "      <td>49</td>\n",
       "      <td>1</td>\n",
       "    </tr>\n",
       "    <tr>\n",
       "      <th>4</th>\n",
       "      <td>2WEI</td>\n",
       "      <td>male</td>\n",
       "      <td>Germany</td>\n",
       "      <td>60</td>\n",
       "      <td>1</td>\n",
       "    </tr>\n",
       "  </tbody>\n",
       "</table>\n",
       "</div>"
      ],
      "text/plain": [
       "                      Artist Gender        Country  Popularity  Gender_numeric\n",
       "0              Martin Garrix   male    Netherlands          74               1\n",
       "1               David Guetta   male         France          85               1\n",
       "2  Dimitri Vegas & Like Mike   male        Belgium          67               1\n",
       "3                      24hrs   male  United States          49               1\n",
       "4                       2WEI   male        Germany          60               1"
      ]
     },
     "execution_count": 3,
     "metadata": {},
     "output_type": "execute_result"
    }
   ],
   "source": [
    "df_artist[\"Gender_numeric\"] = df_artist[\"Gender\"]\n",
    "df_artist[\"Gender_numeric\"].replace({\"mixed\": 0, \"male\": 1, \"female\": 2}, inplace = True)\n",
    "df_artist.head()"
   ]
  },
  {
   "cell_type": "markdown",
   "id": "43436257",
   "metadata": {},
   "source": [
    "### Adding continents"
   ]
  },
  {
   "cell_type": "markdown",
   "id": "d7125808",
   "metadata": {},
   "source": [
    "Dividing all countries into their respective contintents. The contintents used are the geographical continents. Russia is divided into the Europe group as 75% of Russia's population lives in the Europe part of Russia. The duo (AREA21) that was from the Netherlands and US is divided into the Europe continent, as the montly listeners on Spotify of the Dutch artists (21 million) were significantly higher than his American partner (2 million)."
   ]
  },
  {
   "cell_type": "code",
   "execution_count": 4,
   "id": "27677d56",
   "metadata": {},
   "outputs": [],
   "source": [
    "#Adding contintent column by using the countries, which will change into contintents\n",
    "df_artist[\"Continent\"] = df_artist[\"Country\"]"
   ]
  },
  {
   "cell_type": "code",
   "execution_count": 5,
   "id": "feb262f8",
   "metadata": {},
   "outputs": [],
   "source": [
    "europe_lst = [\"Netherlands\", \"France\", \"Belgium\", \"Germany\", \"United Kingdom & Finland\", \"Norway\", \"United Kingdom\", \n",
    "              \"Italy\", \"Romania\", \"Lithuania\", \"Czechia\", \"Slovakia\", \"Denmark\", \"Poland\", \"Ireland\", \"Spain\", \"Estonia\",\n",
    "             \"Sweden\", \"Iceland\", \"Hungary\", \"Russia\", \"Netherlands and United States\"]\n",
    "north_amer_lst = [\"United States\", \"Puerto Rico\", \"Mexico\", \"Canada\", \"Barbados\", \"Cuba\"]\n",
    "south_amer_lst = [\"Brazil\", \"Colombia\", \"Peru\", \"Argentina\", \"Ecuador\"]\n",
    "africa_lst = [\"Egypt\", \"South Africa\"]\n",
    "oceanie_lst = [\"Australia\"]\n",
    "asia_lst = [\"Thailand\", \"Japan\"]\n",
    "df_artist[\"Continent\"].replace(dict.fromkeys(europe_lst, \"Europe\"), inplace = True)\n",
    "df_artist[\"Continent\"].replace(dict.fromkeys(north_amer_lst, \"North America\"), inplace = True)\n",
    "df_artist[\"Continent\"].replace(dict.fromkeys(south_amer_lst, \"South America\"), inplace = True)\n",
    "df_artist[\"Continent\"].replace(dict.fromkeys(africa_lst, \"Africa\"), inplace = True)\n",
    "df_artist[\"Continent\"].replace(dict.fromkeys(oceanie_lst, \"Oceania\"), inplace = True)\n",
    "df_artist[\"Continent\"].replace(dict.fromkeys(asia_lst, \"Asia\"), inplace = True)"
   ]
  },
  {
   "cell_type": "code",
   "execution_count": 6,
   "id": "432746c4",
   "metadata": {
    "scrolled": true
   },
   "outputs": [
    {
     "data": {
      "text/html": [
       "<div>\n",
       "<style scoped>\n",
       "    .dataframe tbody tr th:only-of-type {\n",
       "        vertical-align: middle;\n",
       "    }\n",
       "\n",
       "    .dataframe tbody tr th {\n",
       "        vertical-align: top;\n",
       "    }\n",
       "\n",
       "    .dataframe thead th {\n",
       "        text-align: right;\n",
       "    }\n",
       "</style>\n",
       "<table border=\"1\" class=\"dataframe\">\n",
       "  <thead>\n",
       "    <tr style=\"text-align: right;\">\n",
       "      <th></th>\n",
       "      <th>Artist</th>\n",
       "      <th>Gender</th>\n",
       "      <th>Country</th>\n",
       "      <th>Popularity</th>\n",
       "      <th>Gender_numeric</th>\n",
       "      <th>Continent</th>\n",
       "    </tr>\n",
       "  </thead>\n",
       "  <tbody>\n",
       "    <tr>\n",
       "      <th>0</th>\n",
       "      <td>Martin Garrix</td>\n",
       "      <td>male</td>\n",
       "      <td>Netherlands</td>\n",
       "      <td>74</td>\n",
       "      <td>1</td>\n",
       "      <td>Europe</td>\n",
       "    </tr>\n",
       "    <tr>\n",
       "      <th>1</th>\n",
       "      <td>David Guetta</td>\n",
       "      <td>male</td>\n",
       "      <td>France</td>\n",
       "      <td>85</td>\n",
       "      <td>1</td>\n",
       "      <td>Europe</td>\n",
       "    </tr>\n",
       "    <tr>\n",
       "      <th>2</th>\n",
       "      <td>Dimitri Vegas &amp; Like Mike</td>\n",
       "      <td>male</td>\n",
       "      <td>Belgium</td>\n",
       "      <td>67</td>\n",
       "      <td>1</td>\n",
       "      <td>Europe</td>\n",
       "    </tr>\n",
       "    <tr>\n",
       "      <th>3</th>\n",
       "      <td>24hrs</td>\n",
       "      <td>male</td>\n",
       "      <td>United States</td>\n",
       "      <td>49</td>\n",
       "      <td>1</td>\n",
       "      <td>North America</td>\n",
       "    </tr>\n",
       "    <tr>\n",
       "      <th>4</th>\n",
       "      <td>2WEI</td>\n",
       "      <td>male</td>\n",
       "      <td>Germany</td>\n",
       "      <td>60</td>\n",
       "      <td>1</td>\n",
       "      <td>Europe</td>\n",
       "    </tr>\n",
       "  </tbody>\n",
       "</table>\n",
       "</div>"
      ],
      "text/plain": [
       "                      Artist Gender        Country  Popularity  \\\n",
       "0              Martin Garrix   male    Netherlands          74   \n",
       "1               David Guetta   male         France          85   \n",
       "2  Dimitri Vegas & Like Mike   male        Belgium          67   \n",
       "3                      24hrs   male  United States          49   \n",
       "4                       2WEI   male        Germany          60   \n",
       "\n",
       "   Gender_numeric      Continent  \n",
       "0               1         Europe  \n",
       "1               1         Europe  \n",
       "2               1         Europe  \n",
       "3               1  North America  \n",
       "4               1         Europe  "
      ]
     },
     "execution_count": 6,
     "metadata": {},
     "output_type": "execute_result"
    }
   ],
   "source": [
    "df_artist.head()"
   ]
  },
  {
   "cell_type": "markdown",
   "id": "68d1124a",
   "metadata": {},
   "source": [
    "### Popularity x Gender column"
   ]
  },
  {
   "cell_type": "markdown",
   "id": "3781724c",
   "metadata": {},
   "source": [
    "Adding Popularity multiplied by Gender column, as female artists are underrepresented in this dataset to give them more weight to be able to compare output of the ERGM."
   ]
  },
  {
   "cell_type": "code",
   "execution_count": 7,
   "id": "f768724c",
   "metadata": {
    "scrolled": false
   },
   "outputs": [
    {
     "data": {
      "text/html": [
       "<div>\n",
       "<style scoped>\n",
       "    .dataframe tbody tr th:only-of-type {\n",
       "        vertical-align: middle;\n",
       "    }\n",
       "\n",
       "    .dataframe tbody tr th {\n",
       "        vertical-align: top;\n",
       "    }\n",
       "\n",
       "    .dataframe thead th {\n",
       "        text-align: right;\n",
       "    }\n",
       "</style>\n",
       "<table border=\"1\" class=\"dataframe\">\n",
       "  <thead>\n",
       "    <tr style=\"text-align: right;\">\n",
       "      <th></th>\n",
       "      <th>Artist</th>\n",
       "      <th>Gender</th>\n",
       "      <th>Country</th>\n",
       "      <th>Popularity</th>\n",
       "      <th>Gender_numeric</th>\n",
       "      <th>Continent</th>\n",
       "      <th>Popularity_gender</th>\n",
       "    </tr>\n",
       "  </thead>\n",
       "  <tbody>\n",
       "    <tr>\n",
       "      <th>0</th>\n",
       "      <td>Martin Garrix</td>\n",
       "      <td>male</td>\n",
       "      <td>Netherlands</td>\n",
       "      <td>74</td>\n",
       "      <td>1</td>\n",
       "      <td>Europe</td>\n",
       "      <td>74</td>\n",
       "    </tr>\n",
       "    <tr>\n",
       "      <th>1</th>\n",
       "      <td>David Guetta</td>\n",
       "      <td>male</td>\n",
       "      <td>France</td>\n",
       "      <td>85</td>\n",
       "      <td>1</td>\n",
       "      <td>Europe</td>\n",
       "      <td>85</td>\n",
       "    </tr>\n",
       "    <tr>\n",
       "      <th>2</th>\n",
       "      <td>Dimitri Vegas &amp; Like Mike</td>\n",
       "      <td>male</td>\n",
       "      <td>Belgium</td>\n",
       "      <td>67</td>\n",
       "      <td>1</td>\n",
       "      <td>Europe</td>\n",
       "      <td>67</td>\n",
       "    </tr>\n",
       "    <tr>\n",
       "      <th>3</th>\n",
       "      <td>24hrs</td>\n",
       "      <td>male</td>\n",
       "      <td>United States</td>\n",
       "      <td>49</td>\n",
       "      <td>1</td>\n",
       "      <td>North America</td>\n",
       "      <td>49</td>\n",
       "    </tr>\n",
       "    <tr>\n",
       "      <th>4</th>\n",
       "      <td>2WEI</td>\n",
       "      <td>male</td>\n",
       "      <td>Germany</td>\n",
       "      <td>60</td>\n",
       "      <td>1</td>\n",
       "      <td>Europe</td>\n",
       "      <td>60</td>\n",
       "    </tr>\n",
       "  </tbody>\n",
       "</table>\n",
       "</div>"
      ],
      "text/plain": [
       "                      Artist Gender        Country  Popularity  \\\n",
       "0              Martin Garrix   male    Netherlands          74   \n",
       "1               David Guetta   male         France          85   \n",
       "2  Dimitri Vegas & Like Mike   male        Belgium          67   \n",
       "3                      24hrs   male  United States          49   \n",
       "4                       2WEI   male        Germany          60   \n",
       "\n",
       "   Gender_numeric      Continent  Popularity_gender  \n",
       "0               1         Europe                 74  \n",
       "1               1         Europe                 85  \n",
       "2               1         Europe                 67  \n",
       "3               1  North America                 49  \n",
       "4               1         Europe                 60  "
      ]
     },
     "execution_count": 7,
     "metadata": {},
     "output_type": "execute_result"
    }
   ],
   "source": [
    "#Popularity X gender column\n",
    "df_artist[\"Popularity_gender\"] = df_artist[\"Gender_numeric\"] * df_artist[\"Popularity\"]\n",
    "df_artist.head()"
   ]
  },
  {
   "cell_type": "code",
   "execution_count": 8,
   "id": "ce1f649b",
   "metadata": {},
   "outputs": [],
   "source": [
    "df_artist.to_csv(\"Nodelist_Final3_adjusted.csv\", index = False)"
   ]
  },
  {
   "cell_type": "markdown",
   "id": "3bde5574",
   "metadata": {},
   "source": [
    "### Descriptive statistics"
   ]
  },
  {
   "cell_type": "code",
   "execution_count": 9,
   "id": "ffd60e5f",
   "metadata": {},
   "outputs": [
    {
     "data": {
      "text/html": [
       "<div>\n",
       "<style scoped>\n",
       "    .dataframe tbody tr th:only-of-type {\n",
       "        vertical-align: middle;\n",
       "    }\n",
       "\n",
       "    .dataframe tbody tr th {\n",
       "        vertical-align: top;\n",
       "    }\n",
       "\n",
       "    .dataframe thead th {\n",
       "        text-align: right;\n",
       "    }\n",
       "</style>\n",
       "<table border=\"1\" class=\"dataframe\">\n",
       "  <thead>\n",
       "    <tr style=\"text-align: right;\">\n",
       "      <th></th>\n",
       "      <th>Artist</th>\n",
       "    </tr>\n",
       "    <tr>\n",
       "      <th>Continent</th>\n",
       "      <th></th>\n",
       "    </tr>\n",
       "  </thead>\n",
       "  <tbody>\n",
       "    <tr>\n",
       "      <th>Africa</th>\n",
       "      <td>6</td>\n",
       "    </tr>\n",
       "    <tr>\n",
       "      <th>Asia</th>\n",
       "      <td>4</td>\n",
       "    </tr>\n",
       "    <tr>\n",
       "      <th>Europe</th>\n",
       "      <td>187</td>\n",
       "    </tr>\n",
       "    <tr>\n",
       "      <th>North America</th>\n",
       "      <td>170</td>\n",
       "    </tr>\n",
       "    <tr>\n",
       "      <th>Oceania</th>\n",
       "      <td>4</td>\n",
       "    </tr>\n",
       "    <tr>\n",
       "      <th>South America</th>\n",
       "      <td>13</td>\n",
       "    </tr>\n",
       "  </tbody>\n",
       "</table>\n",
       "</div>"
      ],
      "text/plain": [
       "               Artist\n",
       "Continent            \n",
       "Africa              6\n",
       "Asia                4\n",
       "Europe            187\n",
       "North America     170\n",
       "Oceania             4\n",
       "South America      13"
      ]
     },
     "execution_count": 9,
     "metadata": {},
     "output_type": "execute_result"
    }
   ],
   "source": [
    "df_artist[[\"Artist\", \"Continent\"]].groupby(by = \"Continent\").count()"
   ]
  },
  {
   "cell_type": "code",
   "execution_count": 10,
   "id": "bdea40ce",
   "metadata": {
    "scrolled": true
   },
   "outputs": [
    {
     "data": {
      "text/plain": [
       "count    384.000000\n",
       "mean      42.375000\n",
       "std       22.918404\n",
       "min        0.000000\n",
       "25%       26.000000\n",
       "50%       43.000000\n",
       "75%       59.000000\n",
       "max       96.000000\n",
       "Name: Popularity, dtype: float64"
      ]
     },
     "execution_count": 10,
     "metadata": {},
     "output_type": "execute_result"
    }
   ],
   "source": [
    "df_artist[\"Popularity\"].describe()"
   ]
  },
  {
   "cell_type": "code",
   "execution_count": 11,
   "id": "f5acdc0a",
   "metadata": {},
   "outputs": [
    {
     "data": {
      "text/html": [
       "<div>\n",
       "<style scoped>\n",
       "    .dataframe tbody tr th:only-of-type {\n",
       "        vertical-align: middle;\n",
       "    }\n",
       "\n",
       "    .dataframe tbody tr th {\n",
       "        vertical-align: top;\n",
       "    }\n",
       "\n",
       "    .dataframe thead th {\n",
       "        text-align: right;\n",
       "    }\n",
       "</style>\n",
       "<table border=\"1\" class=\"dataframe\">\n",
       "  <thead>\n",
       "    <tr style=\"text-align: right;\">\n",
       "      <th></th>\n",
       "      <th>Artist</th>\n",
       "    </tr>\n",
       "    <tr>\n",
       "      <th>Gender</th>\n",
       "      <th></th>\n",
       "    </tr>\n",
       "  </thead>\n",
       "  <tbody>\n",
       "    <tr>\n",
       "      <th>female</th>\n",
       "      <td>49</td>\n",
       "    </tr>\n",
       "    <tr>\n",
       "      <th>male</th>\n",
       "      <td>316</td>\n",
       "    </tr>\n",
       "    <tr>\n",
       "      <th>mixed</th>\n",
       "      <td>19</td>\n",
       "    </tr>\n",
       "  </tbody>\n",
       "</table>\n",
       "</div>"
      ],
      "text/plain": [
       "        Artist\n",
       "Gender        \n",
       "female      49\n",
       "male       316\n",
       "mixed       19"
      ]
     },
     "execution_count": 11,
     "metadata": {},
     "output_type": "execute_result"
    }
   ],
   "source": [
    "df_artist[[\"Artist\", \"Gender\"]].groupby(by = \"Gender\").count()"
   ]
  },
  {
   "cell_type": "code",
   "execution_count": 12,
   "id": "159aea30",
   "metadata": {},
   "outputs": [
    {
     "data": {
      "text/plain": [
       "count    384.000000\n",
       "mean      46.257812\n",
       "std       32.203720\n",
       "min        0.000000\n",
       "25%       23.000000\n",
       "50%       45.000000\n",
       "75%       63.250000\n",
       "max      176.000000\n",
       "Name: Popularity_gender, dtype: float64"
      ]
     },
     "execution_count": 12,
     "metadata": {},
     "output_type": "execute_result"
    }
   ],
   "source": [
    "df_artist[\"Popularity_gender\"].describe()"
   ]
  }
 ],
 "metadata": {
  "kernelspec": {
   "display_name": "Python 3 (ipykernel)",
   "language": "python",
   "name": "python3"
  },
  "language_info": {
   "codemirror_mode": {
    "name": "ipython",
    "version": 3
   },
   "file_extension": ".py",
   "mimetype": "text/x-python",
   "name": "python",
   "nbconvert_exporter": "python",
   "pygments_lexer": "ipython3",
   "version": "3.10.9"
  }
 },
 "nbformat": 4,
 "nbformat_minor": 5
}
